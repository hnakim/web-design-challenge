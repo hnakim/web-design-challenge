{
 "cells": [
  {
   "cell_type": "code",
   "execution_count": 1,
   "metadata": {},
   "outputs": [],
   "source": [
    "import pandas as pd"
   ]
  },
  {
   "cell_type": "code",
   "execution_count": 2,
   "metadata": {},
   "outputs": [],
   "source": [
    "#set up file path to open csv\n",
    "df = pd.read_csv(\"cities.csv\")\n",
    "\n",
    "#convert to html\n",
    "cities_table = df.to_html()"
   ]
  },
  {
   "cell_type": "code",
   "execution_count": 3,
   "metadata": {},
   "outputs": [],
   "source": [
    "#save as new file\n",
    "text_file = open(\"cities_html.html\", \"w\")\n",
    "text_file.write(cities_table)\n",
    "text_file.close()"
   ]
  }
 ],
 "metadata": {
  "kernelspec": {
   "display_name": "PythonData38",
   "language": "python",
   "name": "python3"
  },
  "language_info": {
   "codemirror_mode": {
    "name": "ipython",
    "version": 3
   },
   "file_extension": ".py",
   "mimetype": "text/x-python",
   "name": "python",
   "nbconvert_exporter": "python",
   "pygments_lexer": "ipython3",
   "version": "3.8.13"
  },
  "orig_nbformat": 4,
  "vscode": {
   "interpreter": {
    "hash": "10f4219f624992e614e3b071e5ee4d11c0410063cd3aadbd73aa9ecb633eae83"
   }
  }
 },
 "nbformat": 4,
 "nbformat_minor": 2
}
